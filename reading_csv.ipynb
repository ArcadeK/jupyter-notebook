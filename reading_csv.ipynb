{
  "cells": [
    {
      "metadata": {},
      "cell_type": "markdown",
      "source": "# Reading CSV Files\nThis notebook contains practice for reading csv files with a dataset from the Index of /ml/machine-learning-databases/. I stored `breast-caner.data` in the same directory as this Jupyter notebook, so we just need to provide the name of the file.\nThe notes  in markdown cells were provided by the Nanodegree udacity course I was enrolled on. "
    },
    {
      "metadata": {
        "trusted": true
      },
      "cell_type": "code",
      "source": "import numpy as np\nimport pandas as pd\nimport matplotlib.pyplot as plt",
      "execution_count": 1,
      "outputs": []
    },
    {
      "metadata": {
        "scrolled": false,
        "trusted": true
      },
      "cell_type": "code",
      "source": "df = pd.read_csv('cancer_data.csv')",
      "execution_count": 2,
      "outputs": []
    },
    {
      "metadata": {},
      "cell_type": "markdown",
      "source": "`head()` is a useful function you can call on your dataframe to display the first few rows. Let's use it to see what this data looks like."
    },
    {
      "metadata": {
        "trusted": true
      },
      "cell_type": "code",
      "source": "df.head()",
      "execution_count": 3,
      "outputs": [
        {
          "output_type": "execute_result",
          "execution_count": 3,
          "data": {
            "text/html": "<div>\n<table border=\"1\" class=\"dataframe\">\n  <thead>\n    <tr style=\"text-align: right;\">\n      <th></th>\n      <th>id</th>\n      <th>diagnosis</th>\n      <th>radius_mean</th>\n      <th>texture_mean</th>\n      <th>perimeter_mean</th>\n      <th>area_mean</th>\n      <th>smoothness_mean</th>\n      <th>compactness_mean</th>\n      <th>concavity_mean</th>\n      <th>concave_points_mean</th>\n      <th>...</th>\n      <th>radius_max</th>\n      <th>texture_max</th>\n      <th>perimeter_max</th>\n      <th>area_max</th>\n      <th>smoothness_max</th>\n      <th>compactness_max</th>\n      <th>concavity_max</th>\n      <th>concave_points_max</th>\n      <th>symmetry_max</th>\n      <th>fractal_dimension_max</th>\n    </tr>\n  </thead>\n  <tbody>\n    <tr>\n      <th>0</th>\n      <td>842302</td>\n      <td>M</td>\n      <td>17.99</td>\n      <td>10.38</td>\n      <td>122.80</td>\n      <td>1001.0</td>\n      <td>0.11840</td>\n      <td>0.27760</td>\n      <td>0.3001</td>\n      <td>0.14710</td>\n      <td>...</td>\n      <td>25.38</td>\n      <td>17.33</td>\n      <td>184.60</td>\n      <td>2019.0</td>\n      <td>0.1622</td>\n      <td>0.6656</td>\n      <td>0.7119</td>\n      <td>0.2654</td>\n      <td>0.4601</td>\n      <td>0.11890</td>\n    </tr>\n    <tr>\n      <th>1</th>\n      <td>842517</td>\n      <td>M</td>\n      <td>20.57</td>\n      <td>17.77</td>\n      <td>132.90</td>\n      <td>1326.0</td>\n      <td>0.08474</td>\n      <td>0.07864</td>\n      <td>0.0869</td>\n      <td>0.07017</td>\n      <td>...</td>\n      <td>24.99</td>\n      <td>23.41</td>\n      <td>158.80</td>\n      <td>1956.0</td>\n      <td>0.1238</td>\n      <td>0.1866</td>\n      <td>0.2416</td>\n      <td>0.1860</td>\n      <td>0.2750</td>\n      <td>0.08902</td>\n    </tr>\n    <tr>\n      <th>2</th>\n      <td>84300903</td>\n      <td>M</td>\n      <td>19.69</td>\n      <td>21.25</td>\n      <td>130.00</td>\n      <td>1203.0</td>\n      <td>0.10960</td>\n      <td>0.15990</td>\n      <td>0.1974</td>\n      <td>0.12790</td>\n      <td>...</td>\n      <td>23.57</td>\n      <td>25.53</td>\n      <td>152.50</td>\n      <td>1709.0</td>\n      <td>0.1444</td>\n      <td>0.4245</td>\n      <td>0.4504</td>\n      <td>0.2430</td>\n      <td>0.3613</td>\n      <td>0.08758</td>\n    </tr>\n    <tr>\n      <th>3</th>\n      <td>84348301</td>\n      <td>M</td>\n      <td>11.42</td>\n      <td>20.38</td>\n      <td>77.58</td>\n      <td>386.1</td>\n      <td>0.14250</td>\n      <td>0.28390</td>\n      <td>0.2414</td>\n      <td>0.10520</td>\n      <td>...</td>\n      <td>14.91</td>\n      <td>26.50</td>\n      <td>98.87</td>\n      <td>567.7</td>\n      <td>0.2098</td>\n      <td>0.8663</td>\n      <td>0.6869</td>\n      <td>0.2575</td>\n      <td>0.6638</td>\n      <td>0.17300</td>\n    </tr>\n    <tr>\n      <th>4</th>\n      <td>84358402</td>\n      <td>M</td>\n      <td>20.29</td>\n      <td>14.34</td>\n      <td>135.10</td>\n      <td>1297.0</td>\n      <td>0.10030</td>\n      <td>0.13280</td>\n      <td>0.1980</td>\n      <td>0.10430</td>\n      <td>...</td>\n      <td>22.54</td>\n      <td>16.67</td>\n      <td>152.20</td>\n      <td>1575.0</td>\n      <td>0.1374</td>\n      <td>0.2050</td>\n      <td>0.4000</td>\n      <td>0.1625</td>\n      <td>0.2364</td>\n      <td>0.07678</td>\n    </tr>\n  </tbody>\n</table>\n<p>5 rows × 32 columns</p>\n</div>",
            "text/plain": "         id diagnosis  radius_mean  texture_mean  perimeter_mean  area_mean  \\\n0    842302         M        17.99         10.38          122.80     1001.0   \n1    842517         M        20.57         17.77          132.90     1326.0   \n2  84300903         M        19.69         21.25          130.00     1203.0   \n3  84348301         M        11.42         20.38           77.58      386.1   \n4  84358402         M        20.29         14.34          135.10     1297.0   \n\n   smoothness_mean  compactness_mean  concavity_mean  concave_points_mean  \\\n0          0.11840           0.27760          0.3001              0.14710   \n1          0.08474           0.07864          0.0869              0.07017   \n2          0.10960           0.15990          0.1974              0.12790   \n3          0.14250           0.28390          0.2414              0.10520   \n4          0.10030           0.13280          0.1980              0.10430   \n\n           ...            radius_max  texture_max  perimeter_max  area_max  \\\n0          ...                 25.38        17.33         184.60    2019.0   \n1          ...                 24.99        23.41         158.80    1956.0   \n2          ...                 23.57        25.53         152.50    1709.0   \n3          ...                 14.91        26.50          98.87     567.7   \n4          ...                 22.54        16.67         152.20    1575.0   \n\n   smoothness_max  compactness_max  concavity_max  concave_points_max  \\\n0          0.1622           0.6656         0.7119              0.2654   \n1          0.1238           0.1866         0.2416              0.1860   \n2          0.1444           0.4245         0.4504              0.2430   \n3          0.2098           0.8663         0.6869              0.2575   \n4          0.1374           0.2050         0.4000              0.1625   \n\n   symmetry_max  fractal_dimension_max  \n0        0.4601                0.11890  \n1        0.2750                0.08902  \n2        0.3613                0.08758  \n3        0.6638                0.17300  \n4        0.2364                0.07678  \n\n[5 rows x 32 columns]"
          },
          "metadata": {}
        }
      ]
    },
    {
      "metadata": {},
      "cell_type": "markdown",
      "source": "Remember, CSV stands for comma separated values - but they can actually be separated by different characters, tabs, white space, etc. If your file is separated by a colon, let's say, you can still use `read_csv()` with the `sep` parameter."
    },
    {
      "metadata": {
        "trusted": true
      },
      "cell_type": "code",
      "source": "df = pd.read_csv('cancer_data.csv', sep=':')\ndf.head()",
      "execution_count": 4,
      "outputs": [
        {
          "output_type": "execute_result",
          "execution_count": 4,
          "data": {
            "text/html": "<div>\n<table border=\"1\" class=\"dataframe\">\n  <thead>\n    <tr style=\"text-align: right;\">\n      <th></th>\n      <th>id,diagnosis,radius_mean,texture_mean,perimeter_mean,area_mean,smoothness_mean,compactness_mean,concavity_mean,concave_points_mean,symmetry_mean,fractal_dimension_mean,radius_SE,texture_SE,perimeter_SE,area_SE,smoothness_SE,compactness_SE,concavity_SE,concave_points_SE,symmetry_SE,fractal_dimension_SE,radius_max,texture_max,perimeter_max,area_max,smoothness_max,compactness_max,concavity_max,concave_points_max,symmetry_max,fractal_dimension_max</th>\n    </tr>\n  </thead>\n  <tbody>\n    <tr>\n      <th>0</th>\n      <td>842302,M,17.99,10.38,122.8,1001,0.1184,0.2776,...</td>\n    </tr>\n    <tr>\n      <th>1</th>\n      <td>842517,M,20.57,17.77,132.9,1326,0.08474,0.0786...</td>\n    </tr>\n    <tr>\n      <th>2</th>\n      <td>84300903,M,19.69,21.25,130,1203,0.1096,0.1599,...</td>\n    </tr>\n    <tr>\n      <th>3</th>\n      <td>84348301,M,11.42,20.38,77.58,386.1,0.1425,0.28...</td>\n    </tr>\n    <tr>\n      <th>4</th>\n      <td>84358402,M,20.29,14.34,135.1,1297,0.1003,0.132...</td>\n    </tr>\n  </tbody>\n</table>\n</div>",
            "text/plain": "  id,diagnosis,radius_mean,texture_mean,perimeter_mean,area_mean,smoothness_mean,compactness_mean,concavity_mean,concave_points_mean,symmetry_mean,fractal_dimension_mean,radius_SE,texture_SE,perimeter_SE,area_SE,smoothness_SE,compactness_SE,concavity_SE,concave_points_SE,symmetry_SE,fractal_dimension_SE,radius_max,texture_max,perimeter_max,area_max,smoothness_max,compactness_max,concavity_max,concave_points_max,symmetry_max,fractal_dimension_max\n0  842302,M,17.99,10.38,122.8,1001,0.1184,0.2776,...                                                                                                                                                                                                                                                                                                                                                                                                             \n1  842517,M,20.57,17.77,132.9,1326,0.08474,0.0786...                                                                                                                                                                                                                                                                                                                                                                                                             \n2  84300903,M,19.69,21.25,130,1203,0.1096,0.1599,...                                                                                                                                                                                                                                                                                                                                                                                                             \n3  84348301,M,11.42,20.38,77.58,386.1,0.1425,0.28...                                                                                                                                                                                                                                                                                                                                                                                                             \n4  84358402,M,20.29,14.34,135.1,1297,0.1003,0.132...                                                                                                                                                                                                                                                                                                                                                                                                             "
          },
          "metadata": {}
        }
      ]
    },
    {
      "metadata": {},
      "cell_type": "markdown",
      "source": "This obviously didn't work because there our CSV file is separated by commas. Because there are no colons, nothing was separated and everything was read into one column!"
    },
    {
      "metadata": {},
      "cell_type": "markdown",
      "source": "## Headers\nAnother thing you can do with `read_csv` is specify which line of the file is the header, which specifies the column labels. It's usually the first line, but sometimes we'll want to specify a later line if there is extra meta information at the top of the file. We can do that like this."
    },
    {
      "metadata": {
        "trusted": true
      },
      "cell_type": "code",
      "source": "df = pd.read_csv('cancer_data.csv', header=2)\ndf.head()",
      "execution_count": 23,
      "outputs": [
        {
          "output_type": "execute_result",
          "execution_count": 23,
          "data": {
            "text/html": "<div>\n<table border=\"1\" class=\"dataframe\">\n  <thead>\n    <tr style=\"text-align: right;\">\n      <th></th>\n      <th>842517</th>\n      <th>M</th>\n      <th>20.57</th>\n      <th>17.77</th>\n      <th>132.9</th>\n      <th>1326</th>\n      <th>0.08474</th>\n      <th>0.07864</th>\n      <th>0.0869</th>\n      <th>0.07017</th>\n      <th>...</th>\n      <th>24.99</th>\n      <th>23.41</th>\n      <th>158.8</th>\n      <th>1956</th>\n      <th>0.1238</th>\n      <th>0.1866</th>\n      <th>0.2416</th>\n      <th>0.186</th>\n      <th>0.275</th>\n      <th>0.08902</th>\n    </tr>\n  </thead>\n  <tbody>\n    <tr>\n      <th>0</th>\n      <td>84300903</td>\n      <td>M</td>\n      <td>19.69</td>\n      <td>21.25</td>\n      <td>130.00</td>\n      <td>1203.0</td>\n      <td>0.10960</td>\n      <td>0.1599</td>\n      <td>0.1974</td>\n      <td>0.12790</td>\n      <td>...</td>\n      <td>23.57</td>\n      <td>25.53</td>\n      <td>152.50</td>\n      <td>1709.0</td>\n      <td>0.1444</td>\n      <td>0.4245</td>\n      <td>0.4504</td>\n      <td>0.2430</td>\n      <td>0.3613</td>\n      <td>0.08758</td>\n    </tr>\n    <tr>\n      <th>1</th>\n      <td>84348301</td>\n      <td>M</td>\n      <td>11.42</td>\n      <td>20.38</td>\n      <td>77.58</td>\n      <td>386.1</td>\n      <td>0.14250</td>\n      <td>0.2839</td>\n      <td>0.2414</td>\n      <td>0.10520</td>\n      <td>...</td>\n      <td>14.91</td>\n      <td>26.50</td>\n      <td>98.87</td>\n      <td>567.7</td>\n      <td>0.2098</td>\n      <td>0.8663</td>\n      <td>0.6869</td>\n      <td>0.2575</td>\n      <td>0.6638</td>\n      <td>0.17300</td>\n    </tr>\n    <tr>\n      <th>2</th>\n      <td>84358402</td>\n      <td>M</td>\n      <td>20.29</td>\n      <td>14.34</td>\n      <td>135.10</td>\n      <td>1297.0</td>\n      <td>0.10030</td>\n      <td>0.1328</td>\n      <td>0.1980</td>\n      <td>0.10430</td>\n      <td>...</td>\n      <td>22.54</td>\n      <td>16.67</td>\n      <td>152.20</td>\n      <td>1575.0</td>\n      <td>0.1374</td>\n      <td>0.2050</td>\n      <td>0.4000</td>\n      <td>0.1625</td>\n      <td>0.2364</td>\n      <td>0.07678</td>\n    </tr>\n    <tr>\n      <th>3</th>\n      <td>843786</td>\n      <td>M</td>\n      <td>12.45</td>\n      <td>15.70</td>\n      <td>82.57</td>\n      <td>477.1</td>\n      <td>0.12780</td>\n      <td>0.1700</td>\n      <td>0.1578</td>\n      <td>0.08089</td>\n      <td>...</td>\n      <td>15.47</td>\n      <td>23.75</td>\n      <td>103.40</td>\n      <td>741.6</td>\n      <td>0.1791</td>\n      <td>0.5249</td>\n      <td>0.5355</td>\n      <td>0.1741</td>\n      <td>0.3985</td>\n      <td>0.12440</td>\n    </tr>\n    <tr>\n      <th>4</th>\n      <td>844359</td>\n      <td>M</td>\n      <td>18.25</td>\n      <td>19.98</td>\n      <td>119.60</td>\n      <td>1040.0</td>\n      <td>0.09463</td>\n      <td>0.1090</td>\n      <td>0.1127</td>\n      <td>0.07400</td>\n      <td>...</td>\n      <td>22.88</td>\n      <td>27.66</td>\n      <td>153.20</td>\n      <td>1606.0</td>\n      <td>0.1442</td>\n      <td>0.2576</td>\n      <td>0.3784</td>\n      <td>0.1932</td>\n      <td>0.3063</td>\n      <td>0.08368</td>\n    </tr>\n  </tbody>\n</table>\n<p>5 rows × 32 columns</p>\n</div>",
            "text/plain": "     842517  M  20.57  17.77   132.9    1326  0.08474  0.07864  0.0869  \\\n0  84300903  M  19.69  21.25  130.00  1203.0  0.10960   0.1599  0.1974   \n1  84348301  M  11.42  20.38   77.58   386.1  0.14250   0.2839  0.2414   \n2  84358402  M  20.29  14.34  135.10  1297.0  0.10030   0.1328  0.1980   \n3    843786  M  12.45  15.70   82.57   477.1  0.12780   0.1700  0.1578   \n4    844359  M  18.25  19.98  119.60  1040.0  0.09463   0.1090  0.1127   \n\n   0.07017   ...     24.99  23.41   158.8    1956  0.1238  0.1866  0.2416  \\\n0  0.12790   ...     23.57  25.53  152.50  1709.0  0.1444  0.4245  0.4504   \n1  0.10520   ...     14.91  26.50   98.87   567.7  0.2098  0.8663  0.6869   \n2  0.10430   ...     22.54  16.67  152.20  1575.0  0.1374  0.2050  0.4000   \n3  0.08089   ...     15.47  23.75  103.40   741.6  0.1791  0.5249  0.5355   \n4  0.07400   ...     22.88  27.66  153.20  1606.0  0.1442  0.2576  0.3784   \n\n    0.186   0.275  0.08902  \n0  0.2430  0.3613  0.08758  \n1  0.2575  0.6638  0.17300  \n2  0.1625  0.2364  0.07678  \n3  0.1741  0.3985  0.12440  \n4  0.1932  0.3063  0.08368  \n\n[5 rows x 32 columns]"
          },
          "metadata": {}
        }
      ]
    },
    {
      "metadata": {},
      "cell_type": "markdown",
      "source": "Here, row 2 was used as the the header and everything above that was cut off. By default, `read_csv` uses header=0, which uses the first line for column labels."
    },
    {
      "metadata": {},
      "cell_type": "markdown",
      "source": "If columns labels are not included in your file, you can use `header=None` to prevent your first line of data from being misinterpreted as column labels."
    },
    {
      "metadata": {
        "trusted": true
      },
      "cell_type": "code",
      "source": "df = pd.read_csv('cancer_data.csv', header=None)\ndf.head()",
      "execution_count": 6,
      "outputs": [
        {
          "output_type": "execute_result",
          "execution_count": 6,
          "data": {
            "text/html": "<div>\n<table border=\"1\" class=\"dataframe\">\n  <thead>\n    <tr style=\"text-align: right;\">\n      <th></th>\n      <th>0</th>\n      <th>1</th>\n      <th>2</th>\n      <th>3</th>\n      <th>4</th>\n      <th>5</th>\n      <th>6</th>\n      <th>7</th>\n      <th>8</th>\n      <th>9</th>\n      <th>...</th>\n      <th>22</th>\n      <th>23</th>\n      <th>24</th>\n      <th>25</th>\n      <th>26</th>\n      <th>27</th>\n      <th>28</th>\n      <th>29</th>\n      <th>30</th>\n      <th>31</th>\n    </tr>\n  </thead>\n  <tbody>\n    <tr>\n      <th>0</th>\n      <td>id</td>\n      <td>diagnosis</td>\n      <td>radius_mean</td>\n      <td>texture_mean</td>\n      <td>perimeter_mean</td>\n      <td>area_mean</td>\n      <td>smoothness_mean</td>\n      <td>compactness_mean</td>\n      <td>concavity_mean</td>\n      <td>concave_points_mean</td>\n      <td>...</td>\n      <td>radius_max</td>\n      <td>texture_max</td>\n      <td>perimeter_max</td>\n      <td>area_max</td>\n      <td>smoothness_max</td>\n      <td>compactness_max</td>\n      <td>concavity_max</td>\n      <td>concave_points_max</td>\n      <td>symmetry_max</td>\n      <td>fractal_dimension_max</td>\n    </tr>\n    <tr>\n      <th>1</th>\n      <td>842302</td>\n      <td>M</td>\n      <td>17.99</td>\n      <td>10.38</td>\n      <td>122.8</td>\n      <td>1001</td>\n      <td>0.1184</td>\n      <td>0.2776</td>\n      <td>0.3001</td>\n      <td>0.1471</td>\n      <td>...</td>\n      <td>25.38</td>\n      <td>17.33</td>\n      <td>184.6</td>\n      <td>2019</td>\n      <td>0.1622</td>\n      <td>0.6656</td>\n      <td>0.7119</td>\n      <td>0.2654</td>\n      <td>0.4601</td>\n      <td>0.1189</td>\n    </tr>\n    <tr>\n      <th>2</th>\n      <td>842517</td>\n      <td>M</td>\n      <td>20.57</td>\n      <td>17.77</td>\n      <td>132.9</td>\n      <td>1326</td>\n      <td>0.08474</td>\n      <td>0.07864</td>\n      <td>0.0869</td>\n      <td>0.07017</td>\n      <td>...</td>\n      <td>24.99</td>\n      <td>23.41</td>\n      <td>158.8</td>\n      <td>1956</td>\n      <td>0.1238</td>\n      <td>0.1866</td>\n      <td>0.2416</td>\n      <td>0.186</td>\n      <td>0.275</td>\n      <td>0.08902</td>\n    </tr>\n    <tr>\n      <th>3</th>\n      <td>84300903</td>\n      <td>M</td>\n      <td>19.69</td>\n      <td>21.25</td>\n      <td>130</td>\n      <td>1203</td>\n      <td>0.1096</td>\n      <td>0.1599</td>\n      <td>0.1974</td>\n      <td>0.1279</td>\n      <td>...</td>\n      <td>23.57</td>\n      <td>25.53</td>\n      <td>152.5</td>\n      <td>1709</td>\n      <td>0.1444</td>\n      <td>0.4245</td>\n      <td>0.4504</td>\n      <td>0.243</td>\n      <td>0.3613</td>\n      <td>0.08758</td>\n    </tr>\n    <tr>\n      <th>4</th>\n      <td>84348301</td>\n      <td>M</td>\n      <td>11.42</td>\n      <td>20.38</td>\n      <td>77.58</td>\n      <td>386.1</td>\n      <td>0.1425</td>\n      <td>0.2839</td>\n      <td>0.2414</td>\n      <td>0.1052</td>\n      <td>...</td>\n      <td>14.91</td>\n      <td>26.5</td>\n      <td>98.87</td>\n      <td>567.7</td>\n      <td>0.2098</td>\n      <td>0.8663</td>\n      <td>0.6869</td>\n      <td>0.2575</td>\n      <td>0.6638</td>\n      <td>0.173</td>\n    </tr>\n  </tbody>\n</table>\n<p>5 rows × 32 columns</p>\n</div>",
            "text/plain": "         0          1            2             3               4          5   \\\n0        id  diagnosis  radius_mean  texture_mean  perimeter_mean  area_mean   \n1    842302          M        17.99         10.38           122.8       1001   \n2    842517          M        20.57         17.77           132.9       1326   \n3  84300903          M        19.69         21.25             130       1203   \n4  84348301          M        11.42         20.38           77.58      386.1   \n\n                6                 7               8                    9   \\\n0  smoothness_mean  compactness_mean  concavity_mean  concave_points_mean   \n1           0.1184            0.2776          0.3001               0.1471   \n2          0.08474           0.07864          0.0869              0.07017   \n3           0.1096            0.1599          0.1974               0.1279   \n4           0.1425            0.2839          0.2414               0.1052   \n\n           ...                    22           23             24        25  \\\n0          ...            radius_max  texture_max  perimeter_max  area_max   \n1          ...                 25.38        17.33          184.6      2019   \n2          ...                 24.99        23.41          158.8      1956   \n3          ...                 23.57        25.53          152.5      1709   \n4          ...                 14.91         26.5          98.87     567.7   \n\n               26               27             28                  29  \\\n0  smoothness_max  compactness_max  concavity_max  concave_points_max   \n1          0.1622           0.6656         0.7119              0.2654   \n2          0.1238           0.1866         0.2416               0.186   \n3          0.1444           0.4245         0.4504               0.243   \n4          0.2098           0.8663         0.6869              0.2575   \n\n             30                     31  \n0  symmetry_max  fractal_dimension_max  \n1        0.4601                 0.1189  \n2         0.275                0.08902  \n3        0.3613                0.08758  \n4        0.6638                  0.173  \n\n[5 rows x 32 columns]"
          },
          "metadata": {}
        }
      ]
    },
    {
      "metadata": {},
      "cell_type": "markdown",
      "source": "You can also specify your own column labels like this."
    },
    {
      "metadata": {
        "trusted": true
      },
      "cell_type": "code",
      "source": "labels = ['id', 'diagnosis', 'radius_mean', 'texture_mean', 'perimiter_mean', 'area_mean', 'smoothness_mean', 'compactness_mean']\ndf = pd.read_csv('cancer_data.csv', names=labels)\n",
      "execution_count": 18,
      "outputs": []
    },
    {
      "metadata": {},
      "cell_type": "markdown",
      "source": "If you want to tell pandas that there was a header line that you are replacing, you can specify the row of that line like this."
    },
    {
      "metadata": {
        "trusted": true
      },
      "cell_type": "code",
      "source": "labels = ['id', 'diagnosis']\ndf = pd.read_csv('cancer_data.csv', header=0, names=labels)",
      "execution_count": 19,
      "outputs": []
    },
    {
      "metadata": {},
      "cell_type": "markdown",
      "source": "## Index\nInstead of using the default index (integers incrementing by 1 from 0), you can specify one or more of your columns to be the index of your dataframe."
    },
    {
      "metadata": {
        "scrolled": true,
        "trusted": true
      },
      "cell_type": "code",
      "source": "df = pd.read_csv('cancer_data.csv', index_col='diagnosis')\ndf.head()",
      "execution_count": 13,
      "outputs": [
        {
          "output_type": "execute_result",
          "execution_count": 13,
          "data": {
            "text/html": "<div>\n<table border=\"1\" class=\"dataframe\">\n  <thead>\n    <tr style=\"text-align: right;\">\n      <th></th>\n      <th>id</th>\n      <th>radius_mean</th>\n      <th>texture_mean</th>\n      <th>perimeter_mean</th>\n      <th>area_mean</th>\n      <th>smoothness_mean</th>\n      <th>compactness_mean</th>\n      <th>concavity_mean</th>\n      <th>concave_points_mean</th>\n      <th>symmetry_mean</th>\n      <th>...</th>\n      <th>radius_max</th>\n      <th>texture_max</th>\n      <th>perimeter_max</th>\n      <th>area_max</th>\n      <th>smoothness_max</th>\n      <th>compactness_max</th>\n      <th>concavity_max</th>\n      <th>concave_points_max</th>\n      <th>symmetry_max</th>\n      <th>fractal_dimension_max</th>\n    </tr>\n    <tr>\n      <th>diagnosis</th>\n      <th></th>\n      <th></th>\n      <th></th>\n      <th></th>\n      <th></th>\n      <th></th>\n      <th></th>\n      <th></th>\n      <th></th>\n      <th></th>\n      <th></th>\n      <th></th>\n      <th></th>\n      <th></th>\n      <th></th>\n      <th></th>\n      <th></th>\n      <th></th>\n      <th></th>\n      <th></th>\n      <th></th>\n    </tr>\n  </thead>\n  <tbody>\n    <tr>\n      <th>M</th>\n      <td>842302</td>\n      <td>17.99</td>\n      <td>10.38</td>\n      <td>122.80</td>\n      <td>1001.0</td>\n      <td>0.11840</td>\n      <td>0.27760</td>\n      <td>0.3001</td>\n      <td>0.14710</td>\n      <td>0.2419</td>\n      <td>...</td>\n      <td>25.38</td>\n      <td>17.33</td>\n      <td>184.60</td>\n      <td>2019.0</td>\n      <td>0.1622</td>\n      <td>0.6656</td>\n      <td>0.7119</td>\n      <td>0.2654</td>\n      <td>0.4601</td>\n      <td>0.11890</td>\n    </tr>\n    <tr>\n      <th>M</th>\n      <td>842517</td>\n      <td>20.57</td>\n      <td>17.77</td>\n      <td>132.90</td>\n      <td>1326.0</td>\n      <td>0.08474</td>\n      <td>0.07864</td>\n      <td>0.0869</td>\n      <td>0.07017</td>\n      <td>0.1812</td>\n      <td>...</td>\n      <td>24.99</td>\n      <td>23.41</td>\n      <td>158.80</td>\n      <td>1956.0</td>\n      <td>0.1238</td>\n      <td>0.1866</td>\n      <td>0.2416</td>\n      <td>0.1860</td>\n      <td>0.2750</td>\n      <td>0.08902</td>\n    </tr>\n    <tr>\n      <th>M</th>\n      <td>84300903</td>\n      <td>19.69</td>\n      <td>21.25</td>\n      <td>130.00</td>\n      <td>1203.0</td>\n      <td>0.10960</td>\n      <td>0.15990</td>\n      <td>0.1974</td>\n      <td>0.12790</td>\n      <td>0.2069</td>\n      <td>...</td>\n      <td>23.57</td>\n      <td>25.53</td>\n      <td>152.50</td>\n      <td>1709.0</td>\n      <td>0.1444</td>\n      <td>0.4245</td>\n      <td>0.4504</td>\n      <td>0.2430</td>\n      <td>0.3613</td>\n      <td>0.08758</td>\n    </tr>\n    <tr>\n      <th>M</th>\n      <td>84348301</td>\n      <td>11.42</td>\n      <td>20.38</td>\n      <td>77.58</td>\n      <td>386.1</td>\n      <td>0.14250</td>\n      <td>0.28390</td>\n      <td>0.2414</td>\n      <td>0.10520</td>\n      <td>0.2597</td>\n      <td>...</td>\n      <td>14.91</td>\n      <td>26.50</td>\n      <td>98.87</td>\n      <td>567.7</td>\n      <td>0.2098</td>\n      <td>0.8663</td>\n      <td>0.6869</td>\n      <td>0.2575</td>\n      <td>0.6638</td>\n      <td>0.17300</td>\n    </tr>\n    <tr>\n      <th>M</th>\n      <td>84358402</td>\n      <td>20.29</td>\n      <td>14.34</td>\n      <td>135.10</td>\n      <td>1297.0</td>\n      <td>0.10030</td>\n      <td>0.13280</td>\n      <td>0.1980</td>\n      <td>0.10430</td>\n      <td>0.1809</td>\n      <td>...</td>\n      <td>22.54</td>\n      <td>16.67</td>\n      <td>152.20</td>\n      <td>1575.0</td>\n      <td>0.1374</td>\n      <td>0.2050</td>\n      <td>0.4000</td>\n      <td>0.1625</td>\n      <td>0.2364</td>\n      <td>0.07678</td>\n    </tr>\n  </tbody>\n</table>\n<p>5 rows × 31 columns</p>\n</div>",
            "text/plain": "                 id  radius_mean  texture_mean  perimeter_mean  area_mean  \\\ndiagnosis                                                                   \nM            842302        17.99         10.38          122.80     1001.0   \nM            842517        20.57         17.77          132.90     1326.0   \nM          84300903        19.69         21.25          130.00     1203.0   \nM          84348301        11.42         20.38           77.58      386.1   \nM          84358402        20.29         14.34          135.10     1297.0   \n\n           smoothness_mean  compactness_mean  concavity_mean  \\\ndiagnosis                                                      \nM                  0.11840           0.27760          0.3001   \nM                  0.08474           0.07864          0.0869   \nM                  0.10960           0.15990          0.1974   \nM                  0.14250           0.28390          0.2414   \nM                  0.10030           0.13280          0.1980   \n\n           concave_points_mean  symmetry_mean          ...            \\\ndiagnosis                                              ...             \nM                      0.14710         0.2419          ...             \nM                      0.07017         0.1812          ...             \nM                      0.12790         0.2069          ...             \nM                      0.10520         0.2597          ...             \nM                      0.10430         0.1809          ...             \n\n           radius_max  texture_max  perimeter_max  area_max  smoothness_max  \\\ndiagnosis                                                                     \nM               25.38        17.33         184.60    2019.0          0.1622   \nM               24.99        23.41         158.80    1956.0          0.1238   \nM               23.57        25.53         152.50    1709.0          0.1444   \nM               14.91        26.50          98.87     567.7          0.2098   \nM               22.54        16.67         152.20    1575.0          0.1374   \n\n           compactness_max  concavity_max  concave_points_max  symmetry_max  \\\ndiagnosis                                                                     \nM                   0.6656         0.7119              0.2654        0.4601   \nM                   0.1866         0.2416              0.1860        0.2750   \nM                   0.4245         0.4504              0.2430        0.3613   \nM                   0.8663         0.6869              0.2575        0.6638   \nM                   0.2050         0.4000              0.1625        0.2364   \n\n           fractal_dimension_max  \ndiagnosis                         \nM                        0.11890  \nM                        0.08902  \nM                        0.08758  \nM                        0.17300  \nM                        0.07678  \n\n[5 rows x 31 columns]"
          },
          "metadata": {}
        }
      ]
    },
    {
      "metadata": {
        "scrolled": true,
        "trusted": true
      },
      "cell_type": "code",
      "source": "df = pd.read_csv('cancer_data.csv', index_col=['diagnosis', 'id'])\ndf.head()",
      "execution_count": 16,
      "outputs": [
        {
          "output_type": "execute_result",
          "execution_count": 16,
          "data": {
            "text/html": "<div>\n<table border=\"1\" class=\"dataframe\">\n  <thead>\n    <tr style=\"text-align: right;\">\n      <th></th>\n      <th></th>\n      <th>radius_mean</th>\n      <th>texture_mean</th>\n      <th>perimeter_mean</th>\n      <th>area_mean</th>\n      <th>smoothness_mean</th>\n      <th>compactness_mean</th>\n      <th>concavity_mean</th>\n      <th>concave_points_mean</th>\n      <th>symmetry_mean</th>\n      <th>fractal_dimension_mean</th>\n      <th>...</th>\n      <th>radius_max</th>\n      <th>texture_max</th>\n      <th>perimeter_max</th>\n      <th>area_max</th>\n      <th>smoothness_max</th>\n      <th>compactness_max</th>\n      <th>concavity_max</th>\n      <th>concave_points_max</th>\n      <th>symmetry_max</th>\n      <th>fractal_dimension_max</th>\n    </tr>\n    <tr>\n      <th>diagnosis</th>\n      <th>id</th>\n      <th></th>\n      <th></th>\n      <th></th>\n      <th></th>\n      <th></th>\n      <th></th>\n      <th></th>\n      <th></th>\n      <th></th>\n      <th></th>\n      <th></th>\n      <th></th>\n      <th></th>\n      <th></th>\n      <th></th>\n      <th></th>\n      <th></th>\n      <th></th>\n      <th></th>\n      <th></th>\n      <th></th>\n    </tr>\n  </thead>\n  <tbody>\n    <tr>\n      <th rowspan=\"5\" valign=\"top\">M</th>\n      <th>842302</th>\n      <td>17.99</td>\n      <td>10.38</td>\n      <td>122.80</td>\n      <td>1001.0</td>\n      <td>0.11840</td>\n      <td>0.27760</td>\n      <td>0.3001</td>\n      <td>0.14710</td>\n      <td>0.2419</td>\n      <td>0.07871</td>\n      <td>...</td>\n      <td>25.38</td>\n      <td>17.33</td>\n      <td>184.60</td>\n      <td>2019.0</td>\n      <td>0.1622</td>\n      <td>0.6656</td>\n      <td>0.7119</td>\n      <td>0.2654</td>\n      <td>0.4601</td>\n      <td>0.11890</td>\n    </tr>\n    <tr>\n      <th>842517</th>\n      <td>20.57</td>\n      <td>17.77</td>\n      <td>132.90</td>\n      <td>1326.0</td>\n      <td>0.08474</td>\n      <td>0.07864</td>\n      <td>0.0869</td>\n      <td>0.07017</td>\n      <td>0.1812</td>\n      <td>0.05667</td>\n      <td>...</td>\n      <td>24.99</td>\n      <td>23.41</td>\n      <td>158.80</td>\n      <td>1956.0</td>\n      <td>0.1238</td>\n      <td>0.1866</td>\n      <td>0.2416</td>\n      <td>0.1860</td>\n      <td>0.2750</td>\n      <td>0.08902</td>\n    </tr>\n    <tr>\n      <th>84300903</th>\n      <td>19.69</td>\n      <td>21.25</td>\n      <td>130.00</td>\n      <td>1203.0</td>\n      <td>0.10960</td>\n      <td>0.15990</td>\n      <td>0.1974</td>\n      <td>0.12790</td>\n      <td>0.2069</td>\n      <td>0.05999</td>\n      <td>...</td>\n      <td>23.57</td>\n      <td>25.53</td>\n      <td>152.50</td>\n      <td>1709.0</td>\n      <td>0.1444</td>\n      <td>0.4245</td>\n      <td>0.4504</td>\n      <td>0.2430</td>\n      <td>0.3613</td>\n      <td>0.08758</td>\n    </tr>\n    <tr>\n      <th>84348301</th>\n      <td>11.42</td>\n      <td>20.38</td>\n      <td>77.58</td>\n      <td>386.1</td>\n      <td>0.14250</td>\n      <td>0.28390</td>\n      <td>0.2414</td>\n      <td>0.10520</td>\n      <td>0.2597</td>\n      <td>0.09744</td>\n      <td>...</td>\n      <td>14.91</td>\n      <td>26.50</td>\n      <td>98.87</td>\n      <td>567.7</td>\n      <td>0.2098</td>\n      <td>0.8663</td>\n      <td>0.6869</td>\n      <td>0.2575</td>\n      <td>0.6638</td>\n      <td>0.17300</td>\n    </tr>\n    <tr>\n      <th>84358402</th>\n      <td>20.29</td>\n      <td>14.34</td>\n      <td>135.10</td>\n      <td>1297.0</td>\n      <td>0.10030</td>\n      <td>0.13280</td>\n      <td>0.1980</td>\n      <td>0.10430</td>\n      <td>0.1809</td>\n      <td>0.05883</td>\n      <td>...</td>\n      <td>22.54</td>\n      <td>16.67</td>\n      <td>152.20</td>\n      <td>1575.0</td>\n      <td>0.1374</td>\n      <td>0.2050</td>\n      <td>0.4000</td>\n      <td>0.1625</td>\n      <td>0.2364</td>\n      <td>0.07678</td>\n    </tr>\n  </tbody>\n</table>\n<p>5 rows × 30 columns</p>\n</div>",
            "text/plain": "                    radius_mean  texture_mean  perimeter_mean  area_mean  \\\ndiagnosis id                                                               \nM         842302          17.99         10.38          122.80     1001.0   \n          842517          20.57         17.77          132.90     1326.0   \n          84300903        19.69         21.25          130.00     1203.0   \n          84348301        11.42         20.38           77.58      386.1   \n          84358402        20.29         14.34          135.10     1297.0   \n\n                    smoothness_mean  compactness_mean  concavity_mean  \\\ndiagnosis id                                                            \nM         842302            0.11840           0.27760          0.3001   \n          842517            0.08474           0.07864          0.0869   \n          84300903          0.10960           0.15990          0.1974   \n          84348301          0.14250           0.28390          0.2414   \n          84358402          0.10030           0.13280          0.1980   \n\n                    concave_points_mean  symmetry_mean  \\\ndiagnosis id                                             \nM         842302                0.14710         0.2419   \n          842517                0.07017         0.1812   \n          84300903              0.12790         0.2069   \n          84348301              0.10520         0.2597   \n          84358402              0.10430         0.1809   \n\n                    fractal_dimension_mean          ...            radius_max  \\\ndiagnosis id                                        ...                         \nM         842302                   0.07871          ...                 25.38   \n          842517                   0.05667          ...                 24.99   \n          84300903                 0.05999          ...                 23.57   \n          84348301                 0.09744          ...                 14.91   \n          84358402                 0.05883          ...                 22.54   \n\n                    texture_max  perimeter_max  area_max  smoothness_max  \\\ndiagnosis id                                                               \nM         842302          17.33         184.60    2019.0          0.1622   \n          842517          23.41         158.80    1956.0          0.1238   \n          84300903        25.53         152.50    1709.0          0.1444   \n          84348301        26.50          98.87     567.7          0.2098   \n          84358402        16.67         152.20    1575.0          0.1374   \n\n                    compactness_max  concavity_max  concave_points_max  \\\ndiagnosis id                                                             \nM         842302             0.6656         0.7119              0.2654   \n          842517             0.1866         0.2416              0.1860   \n          84300903           0.4245         0.4504              0.2430   \n          84348301           0.8663         0.6869              0.2575   \n          84358402           0.2050         0.4000              0.1625   \n\n                    symmetry_max  fractal_dimension_max  \ndiagnosis id                                             \nM         842302          0.4601                0.11890  \n          842517          0.2750                0.08902  \n          84300903        0.3613                0.08758  \n          84348301        0.6638                0.17300  \n          84358402        0.2364                0.07678  \n\n[5 rows x 30 columns]"
          },
          "metadata": {}
        }
      ]
    },
    {
      "metadata": {},
      "cell_type": "markdown",
      "source": "There are many other things you can do with this function alone, such as parsing dates, filling null values, skipping rows, etc. A lot of these can be done in different steps after `read_csv()`. We're going to modify our data in other ways, but you can always look up how to do some steps with this function [here](https://pandas.pydata.org/pandas-docs/stable/generated/pandas.read_csv.html)."
    },
    {
      "metadata": {},
      "cell_type": "markdown",
      "source": "## Quiz #1\nUse `read_csv()` to read in `powerplant_data.csv` with more descriptive column names based on the description of features on this [website](http://archive.ics.uci.edu/ml/datasets/combined+cycle+power+plant). Then, use `.head()` on your dataframe to see if you've done this correctly. *Hint: Like in the previous quiz, first call `read_csv()` without parameters and then `head()` to see what the data looks like.*"
    },
    {
      "metadata": {
        "trusted": true
      },
      "cell_type": "code",
      "source": "df_powerplant = pd.read_csv('Folds5x2_pp.csv')\ndf.head()\n",
      "execution_count": 25,
      "outputs": [
        {
          "output_type": "execute_result",
          "execution_count": 25,
          "data": {
            "text/html": "<div>\n<table border=\"1\" class=\"dataframe\">\n  <thead>\n    <tr style=\"text-align: right;\">\n      <th></th>\n      <th>AT</th>\n      <th>V</th>\n      <th>AP</th>\n      <th>RH</th>\n      <th>PE</th>\n    </tr>\n  </thead>\n  <tbody>\n    <tr>\n      <th>0</th>\n      <td>23.25</td>\n      <td>71.29</td>\n      <td>1008.05</td>\n      <td>71.36</td>\n      <td>442.21</td>\n    </tr>\n    <tr>\n      <th>1</th>\n      <td>13.87</td>\n      <td>42.99</td>\n      <td>1007.45</td>\n      <td>81.52</td>\n      <td>471.12</td>\n    </tr>\n    <tr>\n      <th>2</th>\n      <td>16.91</td>\n      <td>43.96</td>\n      <td>1013.32</td>\n      <td>79.87</td>\n      <td>465.86</td>\n    </tr>\n    <tr>\n      <th>3</th>\n      <td>10.09</td>\n      <td>37.14</td>\n      <td>1012.99</td>\n      <td>72.59</td>\n      <td>473.66</td>\n    </tr>\n    <tr>\n      <th>4</th>\n      <td>12.72</td>\n      <td>40.60</td>\n      <td>1013.45</td>\n      <td>86.16</td>\n      <td>471.23</td>\n    </tr>\n  </tbody>\n</table>\n</div>",
            "text/plain": "      AT      V       AP     RH      PE\n0  23.25  71.29  1008.05  71.36  442.21\n1  13.87  42.99  1007.45  81.52  471.12\n2  16.91  43.96  1013.32  79.87  465.86\n3  10.09  37.14  1012.99  72.59  473.66\n4  12.72  40.60  1013.45  86.16  471.23"
          },
          "metadata": {}
        }
      ]
    },
    {
      "metadata": {},
      "cell_type": "markdown",
      "source": "The dataset contains 9568 data points collected from a Combined Cycle Power Plant over 6 years (2006-2011), when the power plant was set to work with full load. Features consist of hourly average ambient variables Temperature (T), Ambient Pressure (AP), Relative Humidity (RH) and Exhaust Vacuum (V) to predict the net hourly electrical energy output (EP)  of the plant.\nA combined cycle power plant (CCPP) is composed of gas turbines (GT), steam turbines (ST) and heat recovery steam generators. In a CCPP, the electricity is generated by gas and steam turbines, which are combined in one cycle, and is transferred from one turbine to another. While the Vacuum is colected from and has effect on the Steam Turbine, he other three of the ambient variables effect the GT performance.\nFor comparability with our baseline studies, and to allow 5x2 fold statistical tests be carried out, we provide the data shuffled five times. For each shuffling 2-fold CV is carried out and the resulting 10 measurements are used for statistical testing.\nWe provide the data both in .ods and in .xlsx formats.\n\nRelevant Papers to cite:\n\nPınar Tüfekci, Prediction of full load electrical power output of a base load operated combined cycle power plant using machine learning methods, International Journal of Electrical Power & Energy Systems, Volume 60, September 2014, Pages 126-140, ISSN 0142-0615, http://dx.doi.org/10.1016/j.ijepes.2014.02.027.\n(http://www.sciencedirect.com/science/article/pii/S0142061514000908)\n\nHeysem Kaya, Pınar Tüfekci , Sadık Fikret Gürgen: Local and Global Learning Methods for Predicting Power of a Combined Gas & Steam Turbine, Proceedings of the International Conference on Emerging Trends in Computer and Electronics Engineering ICETCEE 2012, pp. 13-18 (Mar. 2012, Dubai)\n"
    },
    {
      "metadata": {},
      "cell_type": "markdown",
      "source": "# Writing CSV Files\nAwesome! Now, we'll save your second dataframe with power plant data into a csv file for the next section."
    },
    {
      "metadata": {
        "trusted": true
      },
      "cell_type": "code",
      "source": "df_powerplant.to_csv('powerplant_data_edited.csv')",
      "execution_count": 26,
      "outputs": []
    },
    {
      "metadata": {},
      "cell_type": "markdown",
      "source": "Let's see if that worked the way we wanted."
    },
    {
      "metadata": {
        "trusted": true
      },
      "cell_type": "code",
      "source": "df = pd.read_csv('powerplant_data_edited.csv')\ndf.head()",
      "execution_count": 27,
      "outputs": [
        {
          "output_type": "execute_result",
          "execution_count": 27,
          "data": {
            "text/html": "<div>\n<table border=\"1\" class=\"dataframe\">\n  <thead>\n    <tr style=\"text-align: right;\">\n      <th></th>\n      <th>Unnamed: 0</th>\n      <th>AT</th>\n      <th>V</th>\n      <th>AP</th>\n      <th>RH</th>\n      <th>PE</th>\n    </tr>\n  </thead>\n  <tbody>\n    <tr>\n      <th>0</th>\n      <td>0</td>\n      <td>23.25</td>\n      <td>71.29</td>\n      <td>1008.05</td>\n      <td>71.36</td>\n      <td>442.21</td>\n    </tr>\n    <tr>\n      <th>1</th>\n      <td>1</td>\n      <td>13.87</td>\n      <td>42.99</td>\n      <td>1007.45</td>\n      <td>81.52</td>\n      <td>471.12</td>\n    </tr>\n    <tr>\n      <th>2</th>\n      <td>2</td>\n      <td>16.91</td>\n      <td>43.96</td>\n      <td>1013.32</td>\n      <td>79.87</td>\n      <td>465.86</td>\n    </tr>\n    <tr>\n      <th>3</th>\n      <td>3</td>\n      <td>10.09</td>\n      <td>37.14</td>\n      <td>1012.99</td>\n      <td>72.59</td>\n      <td>473.66</td>\n    </tr>\n    <tr>\n      <th>4</th>\n      <td>4</td>\n      <td>12.72</td>\n      <td>40.60</td>\n      <td>1013.45</td>\n      <td>86.16</td>\n      <td>471.23</td>\n    </tr>\n  </tbody>\n</table>\n</div>",
            "text/plain": "   Unnamed: 0     AT      V       AP     RH      PE\n0           0  23.25  71.29  1008.05  71.36  442.21\n1           1  13.87  42.99  1007.45  81.52  471.12\n2           2  16.91  43.96  1013.32  79.87  465.86\n3           3  10.09  37.14  1012.99  72.59  473.66\n4           4  12.72  40.60  1013.45  86.16  471.23"
          },
          "metadata": {}
        }
      ]
    },
    {
      "metadata": {},
      "cell_type": "markdown",
      "source": "What's this `Unnamed:0`? `to_csv()` will store our index unless we tell it not to. To make it ignore the index, we have to provide the parameter `index=False`"
    },
    {
      "metadata": {
        "trusted": true
      },
      "cell_type": "code",
      "source": "df_powerplant.to_csv('powerplant_data_edited.csv', index=False)",
      "execution_count": 29,
      "outputs": []
    },
    {
      "metadata": {
        "trusted": true
      },
      "cell_type": "code",
      "source": "df = pd.read_csv('powerplant_data_edited.csv')\ndf.head()",
      "execution_count": 30,
      "outputs": [
        {
          "output_type": "execute_result",
          "execution_count": 30,
          "data": {
            "text/html": "<div>\n<table border=\"1\" class=\"dataframe\">\n  <thead>\n    <tr style=\"text-align: right;\">\n      <th></th>\n      <th>AT</th>\n      <th>V</th>\n      <th>AP</th>\n      <th>RH</th>\n      <th>PE</th>\n    </tr>\n  </thead>\n  <tbody>\n    <tr>\n      <th>0</th>\n      <td>23.25</td>\n      <td>71.29</td>\n      <td>1008.05</td>\n      <td>71.36</td>\n      <td>442.21</td>\n    </tr>\n    <tr>\n      <th>1</th>\n      <td>13.87</td>\n      <td>42.99</td>\n      <td>1007.45</td>\n      <td>81.52</td>\n      <td>471.12</td>\n    </tr>\n    <tr>\n      <th>2</th>\n      <td>16.91</td>\n      <td>43.96</td>\n      <td>1013.32</td>\n      <td>79.87</td>\n      <td>465.86</td>\n    </tr>\n    <tr>\n      <th>3</th>\n      <td>10.09</td>\n      <td>37.14</td>\n      <td>1012.99</td>\n      <td>72.59</td>\n      <td>473.66</td>\n    </tr>\n    <tr>\n      <th>4</th>\n      <td>12.72</td>\n      <td>40.60</td>\n      <td>1013.45</td>\n      <td>86.16</td>\n      <td>471.23</td>\n    </tr>\n  </tbody>\n</table>\n</div>",
            "text/plain": "      AT      V       AP     RH      PE\n0  23.25  71.29  1008.05  71.36  442.21\n1  13.87  42.99  1007.45  81.52  471.12\n2  16.91  43.96  1013.32  79.87  465.86\n3  10.09  37.14  1012.99  72.59  473.66\n4  12.72  40.60  1013.45  86.16  471.23"
          },
          "metadata": {}
        }
      ]
    }
  ],
  "metadata": {
    "kernelspec": {
      "name": "python3",
      "display_name": "Python 3",
      "language": "python"
    },
    "language_info": {
      "mimetype": "text/x-python",
      "nbconvert_exporter": "python",
      "name": "python",
      "pygments_lexer": "ipython3",
      "version": "3.5.4",
      "file_extension": ".py",
      "codemirror_mode": {
        "version": 3,
        "name": "ipython"
      }
    }
  },
  "nbformat": 4,
  "nbformat_minor": 2
}